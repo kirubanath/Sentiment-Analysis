{
 "cells": [
  {
   "cell_type": "code",
   "execution_count": 143,
   "metadata": {},
   "outputs": [],
   "source": [
    "from flask import Flask,request,render_template,redirect\n",
    "import sqlite3 as sql\n",
    "import pandas as pd\n",
    "import numpy as np\n",
    "import pickle\n",
    "import bs4 as bs\n",
    "import re"
   ]
  },
  {
   "cell_type": "code",
   "execution_count": 144,
   "metadata": {},
   "outputs": [],
   "source": [
    "from nltk.corpus import stopwords\n",
    "\n",
    "\n",
    "def review_cleaner(review):\n",
    "    '''\n",
    "    Clean and preprocess a review.\n",
    "    \n",
    "    1. Remove HTML tags\n",
    "    2. Use regex to remove all special characters (only keep letters)\n",
    "    3. Make strings to lower case and tokenize / word split reviews\n",
    "    4. Remove English stopwords\n",
    "    5. Rejoin to one string\n",
    "    '''\n",
    "    \n",
    "    #1. Remove HTML tags\n",
    "    review = bs.BeautifulSoup(review).text\n",
    "    \n",
    "    #2. Use regex to find emoticons\n",
    "    emoticons = re.findall('(?::|;|=)(?:-)?(?:\\)|\\(|D|P)', review)\n",
    "    \n",
    "    #3. Remove punctuation\n",
    "    review = re.sub(\"[^a-zA-Z]\", \" \",review)\n",
    "    \n",
    "    #4. Tokenize into words (all lower case)\n",
    "    review = review.lower().split()\n",
    "    \n",
    "    #5. Remove stopwords\n",
    "    eng_stopwords = set(stopwords.words(\"english\"))\n",
    "    review = [w for w in review if not w in eng_stopwords]\n",
    "    \n",
    "    #6. Join the review to one sentence\n",
    "    review = ' '.join(review+emoticons)\n",
    "    # add emoticons to the end\n",
    "\n",
    "    return(review)"
   ]
  },
  {
   "cell_type": "code",
   "execution_count": 145,
   "metadata": {},
   "outputs": [],
   "source": [
    "app = Flask(__name__)\n",
    "placeholder = [None]"
   ]
  },
  {
   "cell_type": "code",
   "execution_count": 146,
   "metadata": {},
   "outputs": [],
   "source": [
    "@app.route(\"/\")\n",
    "@app.route(\"/home\")\n",
    "def home():\n",
    "    return render_template('home.html')\n"
   ]
  },
  {
   "cell_type": "code",
   "execution_count": 147,
   "metadata": {},
   "outputs": [],
   "source": [
    "@app.route(\"/data\")\n",
    "def list():\n",
    "    con = sql.connect(\"database2.db\")\n",
    "    con.row_factory = sql.Row\n",
    "\n",
    "    cur = con.cursor()\n",
    "    cur.execute(\"select * from sentiment\")\n",
    "\n",
    "    rows = cur.fetchall()\n",
    "    return render_template(\"data.html\",rows = rows)"
   ]
  },
  {
   "cell_type": "code",
   "execution_count": 148,
   "metadata": {},
   "outputs": [],
   "source": [
    "@app.route(\"/\",methods = ['POST'])\n",
    "@app.route(\"/home\",methods = ['POST'])\n",
    "def submit_review():\n",
    "    if request.method == \"POST\":\n",
    "        text = request.form[\"text1\"]\n",
    "\n",
    "        cleaner = review_cleaner\n",
    "        vect = pickle.load(open('vectorize.pkl','rb'))\n",
    "        model = pickle.load(open('model.pkl','rb'))\n",
    "\n",
    "        clean_text = cleaner(text)\n",
    "        v = vect.transform([clean_text])\n",
    "        prediction = model.predict(v)[0]\n",
    "        if prediction == 1:\n",
    "            sent = \"Positive\"\n",
    "        else:\n",
    "            sent = \"Negative\"\n",
    "        \n",
    "        prob = model.predict_proba(v).max()\n",
    "\n",
    "        conn = sql.connect('database2.db')\n",
    "        maxid = conn.execute(\"select max(id) from sentiment\").fetchall()[0][0]\n",
    "\n",
    "        if not maxid:\n",
    "            maxid = 0\n",
    "        maxid+=1\n",
    "        conn.execute(\"INSERT INTO sentiment VALUES (?,?,?,?)\",(maxid,text,sent,\"-\"))\n",
    "        conn.commit()\n",
    "        conn.close()\n",
    "\n",
    "        placeholder[-1]=[sent,prob,text]\n",
    "\n",
    "        return redirect(\"/result\")\n",
    "        \n",
    "        "
   ]
  },
  {
   "cell_type": "code",
   "execution_count": 149,
   "metadata": {},
   "outputs": [],
   "source": [
    "@app.route(\"/result\")\n",
    "def res():\n",
    "    return render_template(\n",
    "        \"result.html\",\n",
    "        value1 = placeholder[-1][0],\n",
    "        value2 = placeholder[-1][1],\n",
    "        value3 = placeholder[-1][2])"
   ]
  },
  {
   "cell_type": "code",
   "execution_count": 150,
   "metadata": {},
   "outputs": [],
   "source": [
    "@app.route(\"/result\", methods = ['POST'])\n",
    "def feedback():\n",
    "    if request.method == \"POST\":\n",
    "        feed = request.form[\"rate\"]\n",
    "        \n",
    "        con = sql.connect('database2.db')\n",
    "        maxid = con.execute(\"select max(id) from sentiment\").fetchall()[0][0]\n",
    "\n",
    "        if maxid:\n",
    "            con.execute(f\"\"\"update sentiment \n",
    "                        set feedback = \"{feed}\"\n",
    "                        where id = \"{maxid}\"  \n",
    "                        \"\"\")\n",
    "        \n",
    "        con.commit()\n",
    "        con.close()\n",
    "        \n",
    "        return render_template(\"thanks.html\")"
   ]
  }
 ],
 "metadata": {
  "kernelspec": {
   "display_name": "Python 3",
   "language": "python",
   "name": "python3"
  },
  "language_info": {
   "codemirror_mode": {
    "name": "ipython",
    "version": 3
   },
   "file_extension": ".py",
   "mimetype": "text/x-python",
   "name": "python",
   "nbconvert_exporter": "python",
   "pygments_lexer": "ipython3",
   "version": "3.7.0"
  },
  "orig_nbformat": 4,
  "vscode": {
   "interpreter": {
    "hash": "c57d8a692377b722fde526cd50a4e84c6bd5c0f56eb7e731ab344fe682ab7ce0"
   }
  }
 },
 "nbformat": 4,
 "nbformat_minor": 2
}
